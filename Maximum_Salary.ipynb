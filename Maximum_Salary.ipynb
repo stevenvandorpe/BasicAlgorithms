{
 "cells": [
  {
   "cell_type": "code",
   "execution_count": 1,
   "metadata": {},
   "outputs": [
    {
     "name": "stdout",
     "output_type": "stream",
     "text": [
      "25 985 658001 566202 54 55 1 1 1 9 9 9 254\n",
      "['25', '985', '658001', '566202', '54', '55', '1', '1', '1', '9', '9', '9', '254']\n"
     ]
    }
   ],
   "source": [
    "nrs = [x for x in input().split()]\n",
    "print(nrs)"
   ]
  },
  {
   "cell_type": "code",
   "execution_count": 5,
   "metadata": {},
   "outputs": [],
   "source": [
    "splitnrs = []\n",
    "for e in nrs:\n",
    "    splitnrs.append(list(str(e)))"
   ]
  },
  {
   "cell_type": "code",
   "execution_count": 22,
   "metadata": {},
   "outputs": [],
   "source": [
    "final = []\n",
    "maxlength = max([len(x) for x in splitnrs])\n",
    "for e in splitnrs:\n",
    "    inter = []\n",
    "    for e in e:\n",
    "        inter.append(int(e))\n",
    "    final.append(inter)"
   ]
  },
  {
   "cell_type": "code",
   "execution_count": 23,
   "metadata": {},
   "outputs": [
    {
     "data": {
      "text/plain": [
       "[[9, 8, 5],\n",
       " [9],\n",
       " [9],\n",
       " [9],\n",
       " [6, 5, 8, 0, 0, 1],\n",
       " [5, 6, 6, 2, 0, 2],\n",
       " [5, 5],\n",
       " [5, 4],\n",
       " [2, 5, 4],\n",
       " [2, 5],\n",
       " [1],\n",
       " [1],\n",
       " [1]]"
      ]
     },
     "execution_count": 23,
     "metadata": {},
     "output_type": "execute_result"
    }
   ],
   "source": [
    "maxlength = max([len(x) for x in final])\n",
    "def altlam(x):\n",
    "    length = len(x)\n",
    "    some = []\n",
    "    for e in range(length):\n",
    "        some.append(x[e])\n",
    "    return some\n",
    "sorted(final, key=altlam, reverse=True)"
   ]
  },
  {
   "cell_type": "code",
   "execution_count": null,
   "metadata": {},
   "outputs": [],
   "source": [
    "\n"
   ]
  },
  {
   "cell_type": "code",
   "execution_count": null,
   "metadata": {},
   "outputs": [],
   "source": []
  }
 ],
 "metadata": {
  "kernelspec": {
   "display_name": "Python 3",
   "language": "python",
   "name": "python3"
  },
  "language_info": {
   "codemirror_mode": {
    "name": "ipython",
    "version": 3
   },
   "file_extension": ".py",
   "mimetype": "text/x-python",
   "name": "python",
   "nbconvert_exporter": "python",
   "pygments_lexer": "ipython3",
   "version": "3.5.5"
  }
 },
 "nbformat": 4,
 "nbformat_minor": 2
}
