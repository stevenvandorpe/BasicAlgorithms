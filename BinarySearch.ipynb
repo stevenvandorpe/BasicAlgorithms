{
 "cells": [
  {
   "cell_type": "code",
   "execution_count": 29,
   "metadata": {},
   "outputs": [],
   "source": [
    "samplearray =  [1, 5, 8, 12, 13]\n",
    "samplesearch = [8, 1, 23, 1, 11]"
   ]
  },
  {
   "cell_type": "code",
   "execution_count": 30,
   "metadata": {},
   "outputs": [],
   "source": [
    "def binarysearch(array, low, high, key):\n",
    "    if high == low : \n",
    "        return low\n",
    "    mid = low + int((high - low)/2)\n",
    "    if key == array[mid]: \n",
    "        return mid\n",
    "    elif key < array[mid] : \n",
    "        return binarysearch(array, low, mid-1, key)\n",
    "    elif key > array[mid] : \n",
    "        return binarysearch(array, mid+1, high, key)\n",
    "    return 1  "
   ]
  },
  {
   "cell_type": "code",
   "execution_count": 34,
   "metadata": {},
   "outputs": [
    {
     "name": "stdout",
     "output_type": "stream",
     "text": [
      "[2, 0, -1, 0, -1]\n"
     ]
    }
   ],
   "source": [
    "def wrapper():\n",
    "    solution = []\n",
    "    for e in samplesearch:\n",
    "        if e not in samplearray:\n",
    "            solution.append(-1)\n",
    "        else : \n",
    "            solution.append(binarysearch(samplearray, 0, len(samplearray)-1, e))\n",
    "    print(solution)     \n",
    "wrapper()"
   ]
  },
  {
   "cell_type": "code",
   "execution_count": 33,
   "metadata": {},
   "outputs": [],
   "source": [
    "# %%timeit\n",
    "# wrapper()\n",
    "# 117 µs"
   ]
  },
  {
   "cell_type": "code",
   "execution_count": null,
   "metadata": {},
   "outputs": [],
   "source": []
  }
 ],
 "metadata": {
  "kernelspec": {
   "display_name": "Python 3",
   "language": "python",
   "name": "python3"
  },
  "language_info": {
   "codemirror_mode": {
    "name": "ipython",
    "version": 3
   },
   "file_extension": ".py",
   "mimetype": "text/x-python",
   "name": "python",
   "nbconvert_exporter": "python",
   "pygments_lexer": "ipython3",
   "version": "3.5.5"
  }
 },
 "nbformat": 4,
 "nbformat_minor": 2
}
