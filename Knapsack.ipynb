{
 "cells": [
  {
   "cell_type": "code",
   "execution_count": 52,
   "metadata": {},
   "outputs": [
    {
     "name": "stdout",
     "output_type": "stream",
     "text": [
      "number of items and total weight\n",
      "3 50\n",
      "value and weight pairs\n",
      "60 20\n",
      "100 50\n",
      "120 30\n",
      "value and weight pairs\n",
      "[[60, 20, 3.0], [100, 50, 2.0], [120, 30, 4.0]]\n"
     ]
    }
   ],
   "source": [
    "print(\"number of items and total weight\")\n",
    "line1 = input()\n",
    "n, totalweight = [int(x) for x in line1.split()]\n",
    "pairs = []\n",
    "print('value and weight pairs')\n",
    "for e in range(n):\n",
    "    v, w = [int(x) for x in input().split()]\n",
    "    pairs.append([v, w, v/w])\n",
    "print('value and weight pairs')\n",
    "print(pairs)"
   ]
  },
  {
   "cell_type": "code",
   "execution_count": 53,
   "metadata": {},
   "outputs": [
    {
     "name": "stdout",
     "output_type": "stream",
     "text": [
      "value, weight and value/weight\n",
      "[[120, 30, 4.0], [60, 20, 3.0], [100, 50, 2.0]]\n"
     ]
    }
   ],
   "source": [
    "pairs = sorted(pairs, key=lambda x: x[2], reverse = True)\n",
    "print('value, weight and value/weight')\n",
    "print(pairs)        "
   ]
  },
  {
   "cell_type": "code",
   "execution_count": 54,
   "metadata": {},
   "outputs": [
    {
     "name": "stdout",
     "output_type": "stream",
     "text": [
      "180.0\n"
     ]
    }
   ],
   "source": [
    "totalvalue = 0\n",
    "for item in pairs:\n",
    "    if totalweight > 0:\n",
    "        fraction = min([totalweight, item[1]])\n",
    "        totalvalue += fraction * item[2]\n",
    "        totalweight -= fraction\n",
    "    else : break\n",
    "print(totalvalue)\n",
    "        "
   ]
  },
  {
   "cell_type": "code",
   "execution_count": null,
   "metadata": {},
   "outputs": [],
   "source": []
  }
 ],
 "metadata": {
  "kernelspec": {
   "display_name": "Python 3",
   "language": "python",
   "name": "python3"
  },
  "language_info": {
   "codemirror_mode": {
    "name": "ipython",
    "version": 3
   },
   "file_extension": ".py",
   "mimetype": "text/x-python",
   "name": "python",
   "nbconvert_exporter": "python",
   "pygments_lexer": "ipython3",
   "version": "3.5.5"
  }
 },
 "nbformat": 4,
 "nbformat_minor": 2
}
